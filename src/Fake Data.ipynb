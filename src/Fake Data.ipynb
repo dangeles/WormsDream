{
 "cells": [
  {
   "cell_type": "markdown",
   "metadata": {
    "toc": "true"
   },
   "source": [
    "# Table of Contents\n",
    " <p>"
   ]
  },
  {
   "cell_type": "code",
   "execution_count": 121,
   "metadata": {
    "collapsed": true
   },
   "outputs": [],
   "source": [
    "import pandas as pd\n",
    "import numpy as np\n",
    "import scipy as scipy\n",
    "import matplotlib as mpl\n",
    "import matplotlib.pyplot as plt\n",
    "import seaborn as sns\n",
    "import numba\n",
    "import maxentropy\n",
    "from matplotlib import rc\n",
    "\n",
    "# plotting settings\n",
    "rc('text', usetex=True)\n",
    "rc('text.latex', preamble=r'\\usepackage{cmbright}')\n",
    "rc('font', **{'family': 'sans-serif', 'sans-serif': ['Helvetica']})\n",
    "\n",
    "%matplotlib inline\n",
    "\n",
    "# This enables SVG graphics inline. \n",
    "%config InlineBackend.figure_formats = {'png', 'retina'}\n",
    "\n",
    "# JB's favorite Seaborn settings for notebooks\n",
    "rc = {'lines.linewidth': 2, \n",
    "      'axes.labelsize': 18, \n",
    "      'axes.titlesize': 18, \n",
    "      'axes.facecolor': 'DFDFE5'}\n",
    "sns.set_context('notebook', rc=rc)\n",
    "sns.set_style(\"dark\")\n",
    "\n",
    "# more parameters\n",
    "mpl.rcParams['xtick.labelsize'] = 16 \n",
    "mpl.rcParams['ytick.labelsize'] = 16 \n",
    "mpl.rcParams['legend.fontsize'] = 14\n"
   ]
  },
  {
   "cell_type": "code",
   "execution_count": 200,
   "metadata": {
    "collapsed": true
   },
   "outputs": [],
   "source": [
    "def Energy_no_v(sigma, h, J):\n",
    "    return -np.sum(h*sigma) - 1/2*J.dot(sigma).T.dot(sigma)\n",
    "\n",
    "def Energy(sigma, h, J, Vk):\n",
    "    return -np.sum(h.dot(sigma)) - 1/2*J.dot(sigma).T.dot(sigma) + Vk\n",
    "\n",
    "def logP(sigma, h=h, J=J, Vk=None):\n",
    "    if len(h) != len(sigma):\n",
    "        raise ValueError('length of h must equal length of sigma')\n",
    "    if len(J) != len(sigma):\n",
    "        raise ValueError('length of J must equal length of sigma')\n",
    "    return Energy(sigma, h, J, Vk)\n",
    "\n",
    "def P(sigma, h, J, Vk=None):\n",
    "    num = np.exp(logP(sigma, h, J, Vk))\n",
    "    Z = 1 + num\n",
    "    return num/Z"
   ]
  },
  {
   "cell_type": "code",
   "execution_count": 310,
   "metadata": {
    "collapsed": true
   },
   "outputs": [],
   "source": [
    "def monte_carlo(n_sim, t, params, burnin=3000):\n",
    "    h, J = params\n",
    "    S = np.empty((n_sim, t))\n",
    "    H = np.empty((n_sim, t + burnin))\n",
    "    sigma_prev = np.random.randint(0, 2, n_sim)\n",
    "    sigma = sigma_prev\n",
    "    E_prev = Energy_no_v(sigma, h, J)\n",
    "    for i in np.arange(burnin + t):\n",
    "        for j in np.arange(n_sim):\n",
    "            sigma[j] = np.random.randint(0, 2, 1)\n",
    "            E = Energy_no_v(sigma, h, J)\n",
    "            DeltaE = E - E_prev\n",
    "\n",
    "            # accept\n",
    "            if DeltaE < 0:\n",
    "                E_prev = E\n",
    "            else:\n",
    "                stick = np.random.uniform(0, 1)\n",
    "                if -DeltaE > np.log(stick):\n",
    "                    sigma[j] = sigma_prev[j]\n",
    "                else:\n",
    "                    E_prev = E\n",
    "            H[j, i] = E_prev\n",
    "\n",
    "        sigma_prev = sigma\n",
    "        if i == burnin:\n",
    "            print('burn-in finished')\n",
    "        if (i > burnin) & (i%100 == 0):\n",
    "            print('finished iteration {0}'.format(i))\n",
    "\n",
    "        if i >= burnin:\n",
    "            S[:, i - burnin] = sigma\n",
    "    return S, H"
   ]
  },
  {
   "cell_type": "code",
   "execution_count": 435,
   "metadata": {
    "collapsed": true
   },
   "outputs": [],
   "source": [
    "n = 50\n",
    "blocks = 10\n",
    "blocksize = np.int(n/blocks)\n",
    "sigma_i = np.random.randint(0, 2, (n))\n",
    "h = -np.random.exponential(3, n)\n",
    "# J = np.random.normal(0, 1, (n, n)) - np.random.exponential(3, (n, n))\n",
    "\n",
    "mu = np.random.randint(-5, 3, blocks*blocks)\n",
    "J = np.zeros((n, n))\n",
    "X = [[None]*blocks]*blocks\n",
    "\n",
    "A = None\n",
    "for i in np.arange(blocks):\n",
    "    for j in np.arange(blocks):\n",
    "        mu = np.random.randint(-5, 3)\n",
    "        Jsub = np.random.normal(mu, .01, (blocksize, blocksize))\n",
    "        if A is not None:\n",
    "            A = np.block([A, Jsub])\n",
    "        else:\n",
    "            A = Jsub\n",
    "\n",
    "J = np.bmat(A)\n",
    "J = J.reshape(-2, n)\n",
    "J = (J + J.T)/2\n",
    "\n",
    "J = np.random.normal(J, 0.5)"
   ]
  },
  {
   "cell_type": "code",
   "execution_count": 443,
   "metadata": {},
   "outputs": [
    {
     "data": {
      "text/plain": [
       "<matplotlib.axes._subplots.AxesSubplot at 0x12f64d7b8>"
      ]
     },
     "execution_count": 443,
     "metadata": {},
     "output_type": "execute_result"
    },
    {
     "data": {
      "image/png": "[encoded data removed]",
      "text/plain": [
       "<matplotlib.figure.Figure at 0x12f6506a0>"
      ]
     },
     "metadata": {
      "image/png": {
       "height": 254,
       "width": 385
      }
     },
     "output_type": "display_data"
    }
   ],
   "source": []
  },
  {
   "cell_type": "code",
   "execution_count": null,
   "metadata": {
    "collapsed": true
   },
   "outputs": [],
   "source": []
  }
 ],
 "metadata": {
  "kernelspec": {
   "display_name": "Python [default]",
   "language": "python",
   "name": "python3"
  },
  "language_info": {
   "codemirror_mode": {
    "name": "ipython",
    "version": 3
   },
   "file_extension": ".py",
   "mimetype": "text/x-python",
   "name": "python",
   "nbconvert_exporter": "python",
   "pygments_lexer": "ipython3",
   "version": "3.5.3"
  },
  "nav_menu": {},
  "toc": {
   "navigate_menu": true,
   "number_sections": true,
   "sideBar": true,
   "threshold": 6,
   "toc_cell": true,
   "toc_section_display": "block",
   "toc_window_display": true
  }
 },
 "nbformat": 4,
 "nbformat_minor": 2
}
