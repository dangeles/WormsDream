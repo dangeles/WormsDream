{
 "cells": [
  {
   "cell_type": "markdown",
   "metadata": {
    "toc": "true"
   },
   "source": [
    "# Neuron firing fake data generating."
   ]
  },
  {
   "cell_type": "code",
   "execution_count": 2,
   "metadata": {},
   "outputs": [],
   "source": [
    "# Our numerical workhorses\n",
    "import numpy as np\n",
    "import scipy as sp\n",
    "import pandas as pd\n",
    "\n",
    "# Import matplotlib stuff for plotting\n",
    "import matplotlib.pyplot as plt\n",
    "import matplotlib.cm as cm\n",
    "\n",
    "# Seaborn, useful for graphics\n",
    "import seaborn as sns\n",
    "\n",
    "# favorite Seaborn settings for notebooks\n",
    "rc={'lines.linewidth': 2, \n",
    "    'axes.facecolor' : 'F4F3F6',\n",
    "    'axes.edgecolor' : '000000',\n",
    "    'axes.linewidth' : 1.2,\n",
    "    'grid.color' : 'a6a6a6',\n",
    "    'lines.linewidth': 2,\n",
    "    'axes.labelsize': 18,\n",
    "    'axes.titlesize': 20,\n",
    "    'xtick.major' : 13,\n",
    "    'xtick.labelsize': 'large',\n",
    "    'ytick.labelsize': 13,\n",
    "    'font.family': 'Lucida Sans Unicode',\n",
    "    'grid.linestyle': ':',\n",
    "    'grid.linewidth': 1.5,\n",
    "    'mathtext.fontset': 'stixsans',\n",
    "    'mathtext.sf': 'sans',\n",
    "    'legend.frameon': True,\n",
    "    'legend.fontsize': 13}\n",
    "\n",
    "plt.rc('text.latex', preamble=r'\\usepackage{sfmath}')\n",
    "plt.rc('mathtext', fontset='stixsans', sf='sans')\n",
    "sns.set_style('darkgrid', rc=rc)\n",
    "sns.set_palette(\"colorblind\", color_codes=True)\n",
    "sns.set_context('notebook', rc=rc)"
   ]
  },
  {
   "cell_type": "markdown",
   "metadata": {
    "collapsed": true
   },
   "source": [
    "# Setting up the problem\n",
    "\n",
    "In this notebook we will try to simulate fake data for neurons firing with certain rate where the probability distribution of the $N$ neurons firing is of the form\n",
    "$$\n",
    "P(\\{ \\sigma_i \\}) = {e^{- \\beta \\mathcal{H}(\\{ \\sigma_i \\})} \\over \\mathcal{Z}},\n",
    "$$\n",
    "where $\\sigma_i \\in \\{0, 1\\}$, with $i \\in \\{1,\\ldots, N\\}$ is a spin-like variable that determines if the $i^{th}$ neuron fired in a time interval $\\Delta t \\sim 40$ ms. This means that if during the time interval the $i^{th}$ neuron fires the variable $\\sigma_i$ takes the value of $1$, or zero otherwise.\n",
    "\n",
    "The Hamiltonian of this distirbution is of the form\n",
    "$$\n",
    "\\mathcal{H}(\\{ \\sigma_i \\}) = - \\sum_i h_i \\sigma_i \n",
    "- {1 \\over 2} \\sum_{i, j} J_{ij} \\sigma_i \\sigma_j,\n",
    "$$\n",
    "where $h_i$ is related to the intrinsic firing probability of a neuron, and $J_{ij}$ is related to the coupling of neurons $i$ and $j$. Finally $\\mathcal{Z}$ serves as a normalization constant."
   ]
  },
  {
   "cell_type": "markdown",
   "metadata": {},
   "source": [
    "# Monte Carlo simulation of the neuron firing\n",
    "\n",
    "Given that for 10 neurons we already have 2^{10} possible states for the system it is not tracrtable to generate the full distribution. Instead we will follow a Monte Carlo sampling of the distribution. The algorithm will work as follow:\n",
    "1. Initialize the vector $\\{ \\sigma_i \\}$ at a random configuration.\n",
    "2. Choose one of the spins to be flipped and compute the energy difference $\\Delta E$ as given by the Hamiltonian between both states.\n",
    "3. If The energy change $\\Delta E < 0$ accept the step with probability 1.\n",
    "4. If the energy change $\\Delta E \\geq 0$ then generate a random number between 0 and 1. If the Boltzmann weight $e^{- \\Delta E}$ is greater than this random number accept the change.\n",
    "5. Repeat from step 2."
   ]
  },
  {
   "cell_type": "markdown",
   "metadata": {},
   "source": [
    "Let's define a function that given a vector $\\{\\sigma_i\\}$ and a vector of magnetic fields $\\{h_i \\}$ and a coupling matrix $\\mathbf{J}$ computes the Hamiltonian $\\mathcal{H}$."
   ]
  },
  {
   "cell_type": "code",
   "execution_count": 3,
   "metadata": {},
   "outputs": [],
   "source": [
    "def ising_hamiltonian(sigma_array, h_array, J_mat):\n",
    "    '''\n",
    "    Computes the hamiltonian H({sigma_i}) for a vector sigma_array given a\n",
    "    vector of magnetic fields h_array and a coupling matrix J_mat.\n",
    "    Parameters\n",
    "    ----------\n",
    "    sigma_array : array-like.\n",
    "        Array with neuron states (0 or 1).\n",
    "    h_array : array-like. len(h_array) = len(sigma_array)\n",
    "        Array with the values of the external magnetic field for each \n",
    "        of the neurons.\n",
    "    J_mat : 2D-array. shape = len(sigma_array) x len(sigma_array)\n",
    "        Matrix with the coupling values between neurons.\n",
    "    Returns\n",
    "    -------\n",
    "    Hamiltonian value for state sigma_array.\n",
    "    '''\n",
    "    return np.dot(sigma_array) + np.sum(np.dot(J_mat, sigma_array))"
   ]
  },
  {
   "cell_type": "markdown",
   "metadata": {},
   "source": [
    "For the sake of the simulation let's define generate an array of $\\{h_i \\}$ coupling matrix $\\mathbf{J}$ given a truncated Gaussian distribution with a given mean and variance."
   ]
  },
  {
   "cell_type": "code",
   "execution_count": 11,
   "metadata": {},
   "outputs": [],
   "source": [
    "# Define the number of cells\n",
    "n_cells = 10\n",
    "\n",
    "# Generate the coupling matrix given a Gaussian distribution\n",
    "J_mat = np.random.normal(loc=0, scale=1, size=[n_cells, n_cells])\n",
    "\n",
    "# Generate the array of external magnetic fields\n",
    "h_array = - np.random.exponential(1, size=n_cells)"
   ]
  },
  {
   "cell_type": "markdown",
   "metadata": {},
   "source": [
    "Let's now define the Monte Carlo simulation function."
   ]
  },
  {
   "cell_type": "code",
   "execution_count": null,
   "metadata": {},
   "outputs": [],
   "source": [
    "def ising_monte_carlo(sigma_0, h_array, J_array, n_steps=1000):\n",
    "    '''\n",
    "    Function to perform a Monte Carlo simulation of the neurons firing giving\n",
    "    an initial condition sigma_0, an external magnetic field h_array and a\n",
    "    coupling matrix J_array.\n",
    "    Parameters\n",
    "    ----------\n",
    "    sigma_0 : array-like.\n",
    "        Initial condition of the neuronal state\n",
    "    h_array : array-like. len(h_array) = len(sigma_array)\n",
    "        Array with the values of the external magnetic field for each \n",
    "        of the neurons.\n",
    "    J_mat : 2D-array. shape = len(sigma_array) x len(sigma_array)\n",
    "        Matrix with the coupling values between neurons.\n",
    "    n_steps : int.\n",
    "        Number of steps to perform in the simulation.\n",
    "    '''\n",
    "    # Define the number of cells in simulation\n",
    "    n_cells = len(sigma_0)\n",
    "    \n",
    "    "
   ]
  }
 ],
 "metadata": {
  "kernelspec": {
   "display_name": "Python 3",
   "language": "python",
   "name": "python3"
  },
  "language_info": {
   "codemirror_mode": {
    "name": "ipython",
    "version": 3
   },
   "file_extension": ".py",
   "mimetype": "text/x-python",
   "name": "python",
   "nbconvert_exporter": "python",
   "pygments_lexer": "ipython3",
   "version": "3.6.4"
  },
  "nav_menu": {},
  "toc": {
   "navigate_menu": true,
   "number_sections": true,
   "sideBar": true,
   "threshold": 6,
   "toc_cell": true,
   "toc_section_display": "block",
   "toc_window_display": true
  }
 },
 "nbformat": 4,
 "nbformat_minor": 2
}
