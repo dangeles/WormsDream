{
 "cells": [
  {
   "cell_type": "markdown",
   "metadata": {
    "toc": "true"
   },
   "source": [
    "# Neuron firing fake data generating."
   ]
  },
  {
   "cell_type": "code",
   "execution_count": 44,
   "metadata": {},
   "outputs": [],
   "source": [
    "# Our numerical workhorses\n",
    "import numpy as np\n",
    "import scipy as sp\n",
    "import pandas as pd\n",
    "\n",
    "# Import matplotlib stuff for plotting\n",
    "import matplotlib.pyplot as plt\n",
    "import matplotlib.cm as cm\n",
    "\n",
    "# Seaborn, useful for graphics\n",
    "import seaborn as sns\n",
    "\n",
    "# favorite Seaborn settings for notebooks\n",
    "rc={'lines.linewidth': 2, \n",
    "    'axes.facecolor' : 'F4F3F6',\n",
    "    'axes.edgecolor' : '000000',\n",
    "    'axes.linewidth' : 1.2,\n",
    "    'grid.color' : 'a6a6a6',\n",
    "    'lines.linewidth': 2,\n",
    "    'axes.labelsize': 18,\n",
    "    'axes.titlesize': 20,\n",
    "    'xtick.major' : 13,\n",
    "    'xtick.labelsize': 'large',\n",
    "    'ytick.labelsize': 13,\n",
    "    'font.family': 'Lucida Sans Unicode',\n",
    "    'grid.linestyle': ':',\n",
    "    'grid.linewidth': 1.5,\n",
    "    'mathtext.fontset': 'stixsans',\n",
    "    'mathtext.sf': 'sans',\n",
    "    'legend.frameon': True,\n",
    "    'legend.fontsize': 13}\n",
    "\n",
    "plt.rc('text.latex', preamble=r'\\usepackage{sfmath}')\n",
    "plt.rc('mathtext', fontset='stixsans', sf='sans')\n",
    "sns.set_style('darkgrid', rc=rc)\n",
    "sns.set_palette(\"colorblind\", color_codes=True)\n",
    "sns.set_context('notebook', rc=rc)\n",
    "\n",
    "%matplotlib inline"
   ]
  },
  {
   "cell_type": "markdown",
   "metadata": {
    "collapsed": true
   },
   "source": [
    "# Setting up the problem\n",
    "\n",
    "In this notebook we will try to simulate fake data for neurons firing with certain rate where the probability distribution of the $N$ neurons firing is of the form\n",
    "$$\n",
    "P(\\{ \\sigma_i \\}) = {e^{- \\beta \\mathcal{H}(\\{ \\sigma_i \\})} \\over \\mathcal{Z}},\n",
    "$$\n",
    "where $\\sigma_i \\in \\{0, 1\\}$, with $i \\in \\{1,\\ldots, N\\}$ is a spin-like variable that determines if the $i^{th}$ neuron fired in a time interval $\\Delta t \\sim 40$ ms. This means that if during the time interval the $i^{th}$ neuron fires the variable $\\sigma_i$ takes the value of $1$, or zero otherwise.\n",
    "\n",
    "The Hamiltonian of this distirbution is of the form\n",
    "$$\n",
    "\\mathcal{H}(\\{ \\sigma_i \\}) = - \\sum_i h_i \\sigma_i \n",
    "- {1 \\over 2} \\sum_{i, j} J_{ij} \\sigma_i \\sigma_j,\n",
    "$$\n",
    "where $h_i$ is related to the intrinsic firing probability of a neuron, and $J_{ij}$ is related to the coupling of neurons $i$ and $j$. Finally $\\mathcal{Z}$ serves as a normalization constant."
   ]
  },
  {
   "cell_type": "markdown",
   "metadata": {},
   "source": [
    "# Monte Carlo simulation of the neuron firing\n",
    "\n",
    "Given that for 10 neurons we already have $2^{10}$ possible states for the system it is not tracrtable to generate the full distribution. Instead we will follow a Monte Carlo sampling of the distribution. The algorithm will work as follow:\n",
    "1. Initialize the vector $\\{ \\sigma_i \\}$ at a random configuration.\n",
    "2. Choose one of the spins to be flipped and compute the energy difference $\\Delta E$ as given by the Hamiltonian between both states.\n",
    "3. If The energy change $\\Delta E < 0$ accept the step with probability 1.\n",
    "4. If the energy change $\\Delta E \\geq 0$ then generate a random number between 0 and 1. If the Boltzmann weight $e^{- \\Delta E}$ is greater than this random number accept the change.\n",
    "5. Repeat from step 2."
   ]
  },
  {
   "cell_type": "markdown",
   "metadata": {},
   "source": [
    "Let's define a function that given a vector $\\{\\sigma_i\\}$ and a vector of magnetic fields $\\{h_i \\}$ and a coupling matrix $\\mathbf{J}$ computes the Hamiltonian $\\mathcal{H}$."
   ]
  },
  {
   "cell_type": "code",
   "execution_count": 32,
   "metadata": {},
   "outputs": [],
   "source": [
    "def ising_hamiltonian(sigma_array, h_array, J_mat):\n",
    "    '''\n",
    "    Computes the hamiltonian H({sigma_i}) for a vector sigma_array given a\n",
    "    vector of magnetic fields h_array and a coupling matrix J_mat.\n",
    "    Parameters\n",
    "    ----------\n",
    "    sigma_array : array-like.\n",
    "        Array with neuron states (0 or 1).\n",
    "    h_array : array-like. len(h_array) = len(sigma_array)\n",
    "        Array with the values of the external magnetic field for each \n",
    "        of the neurons.\n",
    "    J_mat : 2D-array. shape = len(sigma_array) x len(sigma_array)\n",
    "        Matrix with the coupling values between neurons.\n",
    "    Returns\n",
    "    -------\n",
    "    Hamiltonian value for state sigma_array.\n",
    "    '''\n",
    "    return - np.dot(h_array, sigma_array) - np.sum(np.dot(J_mat, sigma_array))"
   ]
  },
  {
   "cell_type": "markdown",
   "metadata": {},
   "source": [
    "Let's now define the Monte Carlo simulation function."
   ]
  },
  {
   "cell_type": "code",
   "execution_count": 40,
   "metadata": {},
   "outputs": [],
   "source": [
    "def ising_monte_carlo(sigma_0, h_array, J_mat, n_steps=1000):\n",
    "    '''\n",
    "    Function to perform a Monte Carlo simulation of the neurons firing giving\n",
    "    an initial condition sigma_0, an external magnetic field h_array and a\n",
    "    coupling matrix J_array.\n",
    "    Parameters\n",
    "    ----------\n",
    "    sigma_0 : array-like.\n",
    "        Initial condition of the neuronal state\n",
    "    h_array : array-like. len(h_array) = len(sigma_array)\n",
    "        Array with the values of the external magnetic field for each \n",
    "        of the neurons.\n",
    "    J_mat : 2D-array. shape = len(sigma_array) x len(sigma_array)\n",
    "        Matrix with the coupling values between neurons.\n",
    "    n_steps : int.\n",
    "        Number of steps to perform in the simulation.\n",
    "    Returns\n",
    "    -------\n",
    "    monte_carlo : 2D array.\n",
    "        Matrix containing each of the states in the Monte Carlo simulation\n",
    "    '''\n",
    "    # Define the number of cells in simulation\n",
    "    n_cells = len(sigma_0)\n",
    "    \n",
    "    # Initialize matrix to save each of the steps\n",
    "    monte_carlo = np.zeros([n_cells, n_steps + 1])\n",
    "    \n",
    "    # Initialize the first entry of the matrix\n",
    "    monte_carlo[:, 0] = sigma_0\n",
    "    \n",
    "    # Initialize array to save Hamiltonian values\n",
    "    hamiltonian = np.zeros(n_steps + 1)\n",
    "    \n",
    "    # Compute the first Hamiltonian\n",
    "    hamiltonian[0] = ising_hamiltonian(sigma_0, h_array, J_mat)\n",
    "    \n",
    "    # Loop through each of the steps\n",
    "    for i in range(1, n_steps + 1):\n",
    "        # Choose at random one of the spins\n",
    "        flip_idx = np.random.randint(0, n_cells)\n",
    "        \n",
    "        # Flip the spin and compute the new Hamiltonian\n",
    "        new_sigma = monte_carlo[:, i-1] # Copy old state\n",
    "        new_sigma[flip_idx] = int(not new_sigma[flip_idx])\n",
    "        \n",
    "        # Compute new Hamiltonian\n",
    "        new_hamiltonian = ising_hamiltonian(new_sigma, h_array, J_mat)\n",
    "        \n",
    "        # Compute the ∆E\n",
    "        Delta_E = new_hamiltonian - hamiltonian[i-1]\n",
    "        # Decide whether or not to accept the proposed step\n",
    "        # If the energy decreases: Accept step\n",
    "        if Delta_E < 0:\n",
    "            monte_carlo[:, i] = new_sigma\n",
    "            hamiltonian[i] = new_hamiltonian\n",
    "        # If not generate random number if the energy is less than this\n",
    "        # Accept the step\n",
    "        elif Delta_E < np.log(np.random.rand()):\n",
    "            monte_carlo[:, i] = new_sigma\n",
    "            hamiltonian[i] = new_hamiltonian\n",
    "        # Otherwise reject the step\n",
    "        else:\n",
    "            monte_carlo[:, i] = monte_carlo[:, i-1]\n",
    "            hamiltonian[i] = hamiltonian[i-1]\n",
    "        \n",
    "    return monte_carlo"
   ]
  },
  {
   "cell_type": "markdown",
   "metadata": {},
   "source": [
    "For the sake of the simulation let's define generate an array of $\\{h_i \\}$ coupling matrix $\\mathbf{J}$ given a truncated Gaussian distribution with a given mean and variance."
   ]
  },
  {
   "cell_type": "code",
   "execution_count": 41,
   "metadata": {},
   "outputs": [],
   "source": [
    "# Define the number of cells\n",
    "n_cells = 10\n",
    "\n",
    "# Generate the coupling matrix given a Gaussian distribution\n",
    "J_mat = np.random.normal(loc=0, scale=1, size=[n_cells, n_cells])\n",
    "\n",
    "# Generate the array of external magnetic fields\n",
    "h_array = - np.random.exponential(1, size=n_cells)"
   ]
  },
  {
   "cell_type": "markdown",
   "metadata": {},
   "source": [
    "Now let's initialize a random array of neuronal states and run the Monte Carlo"
   ]
  },
  {
   "cell_type": "code",
   "execution_count": 50,
   "metadata": {},
   "outputs": [],
   "source": [
    "# Initialize random state\n",
    "sigma_0 = np.random.randint(0, 2, size=n_cells)\n",
    "\n",
    "# Perform Monte Carlo\n",
    "monte_carlo = ising_monte_carlo(sigma_0, h_array, J_mat, 1000)"
   ]
  },
  {
   "cell_type": "code",
   "execution_count": 53,
   "metadata": {},
   "outputs": [
    {
     "data": {
      "image/png": "[encoded data removed]",
      "text/plain": [
       "<matplotlib.figure.Figure at 0x1a1af01908>"
      ]
     },
     "metadata": {},
     "output_type": "display_data"
    }
   ],
   "source": [
    "with sns.axes_style('white'):\n",
    "    plt.matshow(monte_carlo, aspect='auto')"
   ]
  }
 ],
 "metadata": {
  "kernelspec": {
   "display_name": "Python 3",
   "language": "python",
   "name": "python3"
  },
  "language_info": {
   "codemirror_mode": {
    "name": "ipython",
    "version": 3
   },
   "file_extension": ".py",
   "mimetype": "text/x-python",
   "name": "python",
   "nbconvert_exporter": "python",
   "pygments_lexer": "ipython3",
   "version": "3.6.4"
  },
  "nav_menu": {},
  "toc": {
   "navigate_menu": true,
   "number_sections": true,
   "sideBar": true,
   "threshold": 6,
   "toc_cell": true,
   "toc_section_display": "block",
   "toc_window_display": true
  }
 },
 "nbformat": 4,
 "nbformat_minor": 2
}
